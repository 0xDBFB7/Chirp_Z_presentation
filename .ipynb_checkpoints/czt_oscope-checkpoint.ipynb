{
 "cells": [
  {
   "cell_type": "code",
   "execution_count": 192,
   "id": "c41b3fc5-f670-4776-9fec-921247a023a1",
   "metadata": {},
   "outputs": [],
   "source": [
    "from IPython.core.display import HTML\n",
    "\n",
    "from IPython.display import display, Math\n",
    "from IPython.display import Markdown, display\n",
    "\n",
    "import matplotlib as mpl\n",
    "mpl.rcParams['figure.dpi'] = 400\n",
    "\n",
    "def pretty_out(st):\n",
    "    display(HTML(f\"<br><big><big><big><div style='padding: 15px; border: gray 2px solid'> {st} </div></big></big></big></center><br>\"))"
   ]
  },
  {
   "cell_type": "code",
   "execution_count": 97,
   "id": "0a78dece-fba4-49be-9b20-8b14498feb48",
   "metadata": {},
   "outputs": [],
   "source": [
    "import matplotlib.pyplot as plt\n",
    "import matplotlib\n",
    "import scipy.signal\n",
    "import numpy as np"
   ]
  },
  {
   "cell_type": "code",
   "execution_count": 38,
   "id": "4cd1d29b-4015-447f-8005-287cd9e06c6c",
   "metadata": {},
   "outputs": [],
   "source": [
    "from memory_profiler import memory_usage"
   ]
  },
  {
   "cell_type": "code",
   "execution_count": 3,
   "id": "47e58f04-2ddc-4133-bce6-cc6b5b15218f",
   "metadata": {},
   "outputs": [],
   "source": [
    "import RigolWFM.wfm as rigol"
   ]
  },
  {
   "cell_type": "code",
   "execution_count": 96,
   "id": "7cd7b332-98df-487a-9482-1dcd583c0d93",
   "metadata": {},
   "outputs": [],
   "source": [
    "filename = 'data/rigol/31-10-waveform-1.wfm' # waveform-1 is 1200 ms long\n",
    "\n",
    "scope = 'DS1000Z'\n",
    "\n",
    "sf = rigol.Wfm.from_file(filename, scope)\n",
    "\n",
    "time_scale = sf.channels[0].time_scale / 1e6\n",
    "fs = 1.0/time_scale\n",
    "\n",
    "y = sf.channels[0].volts\n",
    "\n",
    "N = len(y)"
   ]
  },
  {
   "cell_type": "code",
   "execution_count": 185,
   "id": "106cb2d2-63ee-4526-a046-8dd30c8127e6",
   "metadata": {
    "jupyter": {
     "source_hidden": true
    }
   },
   "outputs": [
    {
     "data": {
      "text/html": [
       "<br><big><big><big><div style='padding: 15px; border: gray 2px solid'> Input data: <br>Sample rate = 10000000 samples per second [10.0 Ms/s (Hz)] <br> Length: 12000512 samples (1.2 seconds) </div></big></big></big></center><br>"
      ],
      "text/plain": [
       "<IPython.core.display.HTML object>"
      ]
     },
     "metadata": {},
     "output_type": "display_data"
    },
    {
     "data": {
      "text/markdown": [
       "$$\\LARGE \\text{Frequency resolution, per output bin:} \\ \\Delta_f = (f_s / N) = 0.833\\ \\text{Hz}$$"
      ],
      "text/plain": [
       "<IPython.core.display.Markdown object>"
      ]
     },
     "metadata": {},
     "output_type": "display_data"
    }
   ],
   "source": [
    "pretty_out(f\"Input data: <br>Sample rate = {fs :.0f} samples per second [{fs/1e6} Ms/s (Hz)] <br> Length: {N} samples ({N/fs :.1f} seconds)\")\n",
    "display(Markdown(r'$$\\LARGE \\text{Frequency resolution, per output bin:} \\ \\Delta_f = (f_s / N) = ' + f\"{fs/N :.3f}\" + r'\\ \\text{Hz}$$'))"
   ]
  },
  {
   "cell_type": "code",
   "execution_count": 172,
   "id": "9134d931-ae69-4871-aa3d-4d66e048c0b7",
   "metadata": {},
   "outputs": [
    {
     "name": "stdout",
     "output_type": "stream",
     "text": [
      "4999999.166702221\n"
     ]
    }
   ],
   "source": [
    "bin_frequencies = np.fft.fftfreq(N, d=time_scale)\n",
    "print(max(spectrum_freqs))"
   ]
  },
  {
   "cell_type": "code",
   "execution_count": 170,
   "id": "a4b624c2-5c5c-49d1-8c33-6d1560ed4e10",
   "metadata": {
    "scrolled": true
   },
   "outputs": [
    {
     "name": "stdout",
     "output_type": "stream",
     "text": [
      "4999999.166702221\n"
     ]
    },
    {
     "data": {
      "text/plain": [
       "[<matplotlib.lines.Line2D at 0x7f7dc5799a30>]"
      ]
     },
     "execution_count": 170,
     "metadata": {},
     "output_type": "execute_result"
    },
    {
     "data": {
      "image/png": "[encoded data removed]",
      "text/plain": [
       "<Figure size 640x480 with 1 Axes>"
      ]
     },
     "metadata": {},
     "output_type": "display_data"
    }
   ],
   "source": [
    "ft = np.fft.fft(y)"
   ]
  },
  {
   "cell_type": "code",
   "execution_count": null,
   "id": "5001682d-f1ca-4bb9-af0c-572226af7a03",
   "metadata": {},
   "outputs": [],
   "source": [
    "plt.plot(bin_frequencies, np.abs(ft)**2)"
   ]
  },
  {
   "cell_type": "code",
   "execution_count": 166,
   "id": "4ac3262e-f75b-4cbc-8488-da63be89d768",
   "metadata": {},
   "outputs": [],
   "source": [
    "rft = np.fft.rfft(y)"
   ]
  },
  {
   "cell_type": "code",
   "execution_count": 173,
   "id": "d27455aa-d294-4c1e-b42d-f2262fd7e5c3",
   "metadata": {},
   "outputs": [
    {
     "data": {
      "text/plain": [
       "Text(0.5, 0, 'Frequency (Hz)')"
      ]
     },
     "execution_count": 173,
     "metadata": {},
     "output_type": "execute_result"
    },
    {
     "data": {
      "image/png": "[encoded data removed]",
      "text/plain": [
       "<Figure size 640x480 with 1 Axes>"
      ]
     },
     "metadata": {},
     "output_type": "display_data"
    }
   ],
   "source": [
    "plt.plot((np.arange(N//2+1) * fs/N), np.abs(rft)**2)\n",
    "plt.gca().set_yticks([])\n",
    "plt.xlabel(\"Frequency (Hz)\")"
   ]
  },
  {
   "cell_type": "code",
   "execution_count": 138,
   "id": "e081e12e-d477-4572-88f2-a38a4a6c75d3",
   "metadata": {},
   "outputs": [
    {
     "name": "stdout",
     "output_type": "stream",
     "text": [
      "4999999.166702221\n"
     ]
    }
   ],
   "source": [
    "\n",
    "\n"
   ]
  },
  {
   "cell_type": "code",
   "execution_count": 67,
   "id": "96e34bfb-f092-4b52-9fc9-567597b09915",
   "metadata": {},
   "outputs": [],
   "source": [
    "rayleigh_frequency = 100"
   ]
  },
  {
   "cell_type": "code",
   "execution_count": 32,
   "id": "7d2d2af3-0c7c-4dc1-9795-d2e6b5524138",
   "metadata": {},
   "outputs": [
    {
     "name": "stdout",
     "output_type": "stream",
     "text": [
      "CPU times: user 2.67 s, sys: 788 ms, total: 3.46 s\n",
      "Wall time: 3.46 s\n"
     ]
    },
    {
     "data": {
      "text/plain": [
       "6000257"
      ]
     },
     "execution_count": 32,
     "metadata": {},
     "output_type": "execute_result"
    }
   ],
   "source": [
    "def fft():\n",
    "    np.fft.fft(y)\n",
    "\n",
    "def rfft():\n",
    "    np.fft.rfft(y)"
   ]
  },
  {
   "cell_type": "code",
   "execution_count": 145,
   "id": "0e60ff10-bbe2-498f-985b-3b68e63ba647",
   "metadata": {},
   "outputs": [
    {
     "name": "stdout",
     "output_type": "stream",
     "text": [
      "4816.34 MiB\n",
      "CPU times: user 5.55 s, sys: 2.2 s, total: 7.76 s\n",
      "Wall time: 7.82 s\n"
     ]
    }
   ],
   "source": [
    "%%time\n",
    "fft()"
   ]
  },
  {
   "cell_type": "code",
   "execution_count": 147,
   "id": "00a7154c-df7c-43db-ab81-459b5eda29ec",
   "metadata": {},
   "outputs": [
    {
     "name": "stdout",
     "output_type": "stream",
     "text": [
      "mem: 4816.33 MiB\n"
     ]
    }
   ],
   "source": [
    "print(f\"mem: {max(memory_usage(fft)) :0.2f} MiB\")"
   ]
  },
  {
   "cell_type": "code",
   "execution_count": 44,
   "id": "28282c4c-c86b-40f5-8d94-d5213f131af9",
   "metadata": {},
   "outputs": [
    {
     "data": {
      "text/plain": [
       "3592.60546875"
      ]
     },
     "execution_count": 44,
     "metadata": {},
     "output_type": "execute_result"
    }
   ],
   "source": [
    "%%time \n",
    "rfft()"
   ]
  },
  {
   "cell_type": "code",
   "execution_count": 45,
   "id": "dd7b1936-8e57-4818-a601-e3af8716ab79",
   "metadata": {},
   "outputs": [
    {
     "data": {
      "text/plain": [
       "3501.10546875"
      ]
     },
     "execution_count": 45,
     "metadata": {},
     "output_type": "execute_result"
    }
   ],
   "source": [
    "max(memory_usage(rfft))"
   ]
  },
  {
   "cell_type": "code",
   "execution_count": 25,
   "id": "a6e7b44a-6ce0-49d2-9a03-3aba09d1167c",
   "metadata": {},
   "outputs": [],
   "source": [
    "import czt\n",
    "freq = np.linspace(0, 1000, 3000) * 1e3\n",
    "\n",
    "t = np.arange(len(y)) * time_scale\n"
   ]
  },
  {
   "cell_type": "code",
   "execution_count": 24,
   "id": "07cf2438-c28a-42ed-a42d-b6e3cbaf3cce",
   "metadata": {},
   "outputs": [
    {
     "name": "stdout",
     "output_type": "stream",
     "text": [
      "CPU times: user 8.09 s, sys: 663 ms, total: 8.75 s\n",
      "Wall time: 8.75 s\n"
     ]
    }
   ],
   "source": [
    "%%time\n",
    "_, sig_f = czt.time2freq(t, y, freq)"
   ]
  },
  {
   "cell_type": "code",
   "execution_count": 37,
   "id": "33046504-d9d7-436d-af2a-c6126ff12db8",
   "metadata": {},
   "outputs": [
    {
     "name": "stdout",
     "output_type": "stream",
     "text": [
      "CPU times: user 2.13 s, sys: 404 ms, total: 2.53 s\n",
      "Wall time: 2.53 s\n"
     ]
    },
    {
     "data": {
      "text/plain": [
       "1000"
      ]
     },
     "execution_count": 37,
     "metadata": {},
     "output_type": "execute_result"
    }
   ],
   "source": [
    "%%time\n"
   ]
  },
  {
   "cell_type": "code",
   "execution_count": 187,
   "id": "d41d18f4-8faa-4bfb-88b2-c6f3c349be2a",
   "metadata": {},
   "outputs": [],
   "source": [
    "f1, f2 = 10, 1000\n",
    "No = int((f2-f1) // delta_f)\n",
    "f = np.linspace(f1, f2, No)\n",
    "\n",
    "zft_i = signal.ZoomFFT(len(y), [f1,f2], m=No, fs=fs)\n"
   ]
  },
  {
   "cell_type": "code",
   "execution_count": 188,
   "id": "09b912ec-4078-401b-b996-77ffce4cba15",
   "metadata": {},
   "outputs": [
    {
     "data": {
      "text/plain": [
       "7742.6171875"
      ]
     },
     "execution_count": 188,
     "metadata": {},
     "output_type": "execute_result"
    }
   ],
   "source": [
    "def zft():\n",
    "    len(zft_i(y))\n",
    "\n",
    "max(memory_usage(zft))"
   ]
  },
  {
   "cell_type": "code",
   "execution_count": 190,
   "id": "53f159b9-a58f-4576-a47f-66e52a575eb3",
   "metadata": {},
   "outputs": [
    {
     "data": {
      "text/plain": [
       "Text(0.5, 0, 'Frequency (Hz)')"
      ]
     },
     "execution_count": 190,
     "metadata": {},
     "output_type": "execute_result"
    },
    {
     "data": {
      "image/png": "[encoded data removed]",
      "text/plain": [
       "<Figure size 640x480 with 1 Axes>"
      ]
     },
     "metadata": {},
     "output_type": "display_data"
    }
   ],
   "source": [
    "plt.plot(f, abs(zft_i(y))**2)\n",
    "plt.gca().set_yticks([])\n",
    "plt.xlabel(\"Frequency (Hz)\")"
   ]
  }
 ],
 "metadata": {
  "kernelspec": {
   "display_name": "Python 3 (ipykernel)",
   "language": "python",
   "name": "python3"
  },
  "language_info": {
   "codemirror_mode": {
    "name": "ipython",
    "version": 3
   },
   "file_extension": ".py",
   "mimetype": "text/x-python",
   "name": "python",
   "nbconvert_exporter": "python",
   "pygments_lexer": "ipython3",
   "version": "3.12.7"
  }
 },
 "nbformat": 4,
 "nbformat_minor": 5
}
