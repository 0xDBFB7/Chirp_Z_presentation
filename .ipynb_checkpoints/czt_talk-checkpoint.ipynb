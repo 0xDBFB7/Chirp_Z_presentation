{
 "cells": [
  {
   "cell_type": "code",
   "execution_count": 18,
   "id": "c5f7c9ab-1972-4101-a0cc-e64ad3198b68",
   "metadata": {},
   "outputs": [],
   "source": [
    "from memory_profiler import memory_usage"
   ]
  },
  {
   "cell_type": "code",
   "execution_count": 19,
   "id": "a1d7896d-a7f0-43c7-92b9-729cc46dba39",
   "metadata": {},
   "outputs": [],
   "source": [
    "import numpy as np"
   ]
  },
  {
   "cell_type": "code",
   "execution_count": 90,
   "id": "2d656145-7ece-428c-ac8e-d2e549b40d9a",
   "metadata": {},
   "outputs": [
    {
     "name": "stdout",
     "output_type": "stream",
     "text": [
      "[0.00000000e+00 2.26757370e-05 4.53514739e-05 ... 3.67041247e+02\n",
      " 3.67041270e+02 3.67041293e+02]\n"
     ]
    }
   ],
   "source": [
    "from scipy.io.wavfile import read\n",
    "\n",
    "sample_rate, data = read(\"data/wagner_ring_cycle.wav\")\n",
    "\n",
    "divider = 50\n",
    "data = data[:len(data)//divider]\n",
    "\n",
    "sample_times = np.arange(len(data))/sample_rate"
   ]
  },
  {
   "cell_type": "code",
   "execution_count": 52,
   "id": "11ba02b4-aab8-475d-bc15-4ea4b46c763a",
   "metadata": {},
   "outputs": [],
   "source": [
    "def conventional_fft_demo():\n",
    "    np.fft.fft(data)\n",
    "\n",
    "    # then decimate"
   ]
  },
  {
   "cell_type": "code",
   "execution_count": 53,
   "id": "f7d9156e-d4de-41dd-b0d1-7fb1acf254cd",
   "metadata": {},
   "outputs": [
    {
     "data": {
      "text/plain": [
       "[3330.9296875,\n",
       " 3330.9296875,\n",
       " 3660.23046875,\n",
       " 4032.328125,\n",
       " 4363.2265625,\n",
       " 4880.58203125,\n",
       " 5282.62109375,\n",
       " 5309.453125,\n",
       " 5309.453125,\n",
       " 5309.453125,\n",
       " 5309.453125,\n",
       " 5309.453125,\n",
       " 5309.453125,\n",
       " 5309.453125,\n",
       " 5309.453125,\n",
       " 5309.453125,\n",
       " 5309.453125,\n",
       " 5031.28125,\n",
       " 4976.4453125,\n",
       " 5461.21875,\n",
       " 5802.16015625,\n",
       " 5802.16015625,\n",
       " 5802.16015625,\n",
       " 5802.16015625,\n",
       " 5802.16015625,\n",
       " 5802.16015625,\n",
       " 5802.16015625,\n",
       " 5802.16015625,\n",
       " 5802.16015625,\n",
       " 5802.16015625,\n",
       " 5802.16015625,\n",
       " 5467.21875,\n",
       " 5802.0078125,\n",
       " 5802.0078125,\n",
       " 5802.0078125,\n",
       " 5802.0078125,\n",
       " 5802.0078125,\n",
       " 5802.0078125,\n",
       " 5802.0078125,\n",
       " 5802.0078125,\n",
       " 5802.0078125,\n",
       " 5802.0078125,\n",
       " 5802.0078125,\n",
       " 3330.94921875]"
      ]
     },
     "execution_count": 53,
     "metadata": {},
     "output_type": "execute_result"
    }
   ],
   "source": [
    "mem_usage = memory_usage(conventional_fft_demo) \n",
    "\n",
    "print(f\"{np.max(mem_usage) / 1e3 :0.1f} gigabytes\")"
   ]
  },
  {
   "cell_type": "code",
   "execution_count": 54,
   "id": "507b2131-aa74-45a7-ba9c-973e0e090709",
   "metadata": {},
   "outputs": [
    {
     "name": "stdout",
     "output_type": "stream",
     "text": [
      "CPU times: user 3.65 s, sys: 577 ms, total: 4.22 s\n",
      "Wall time: 4.22 s\n"
     ]
    }
   ],
   "source": [
    "%%time\n",
    "conventional_fft_demo()"
   ]
  },
  {
   "cell_type": "code",
   "execution_count": 55,
   "id": "85780a22-767b-473e-abc5-b58dd5b47b09",
   "metadata": {},
   "outputs": [
    {
     "name": "stdout",
     "output_type": "stream",
     "text": [
      "5.8 gigabytes\n"
     ]
    }
   ],
   "source": []
  },
  {
   "cell_type": "code",
   "execution_count": 56,
   "id": "56d5e264-b8cd-494f-94fd-384c4eabb83e",
   "metadata": {},
   "outputs": [],
   "source": [
    "import czt \n",
    "\n",
    "freq = np.linspace(50, 20e3, 1)\n",
    "def czt_demo():\n",
    "    _, sig_f = czt.time2freq(sample_times, data, freq)"
   ]
  },
  {
   "cell_type": "code",
   "execution_count": 60,
   "id": "0415fd24-f036-4283-aa41-31a2e05e850a",
   "metadata": {},
   "outputs": [
    {
     "name": "stdout",
     "output_type": "stream",
     "text": [
      "6.0 gigabytes\n"
     ]
    }
   ],
   "source": [
    "mem_usage = memory_usage(czt_demo)\n",
    "\n",
    "print(f\"{np.max(mem_usage) / 1e3 :0.1f} gigabytes\")"
   ]
  },
  {
   "cell_type": "code",
   "execution_count": 61,
   "id": "130e649c-9b76-4c51-bf55-55de1ce1d959",
   "metadata": {},
   "outputs": [
    {
     "name": "stdout",
     "output_type": "stream",
     "text": [
      "CPU times: user 13.6 s, sys: 535 ms, total: 14.1 s\n",
      "Wall time: 14.1 s\n"
     ]
    }
   ],
   "source": [
    "%%time\n",
    "czt_demo()"
   ]
  },
  {
   "cell_type": "code",
   "execution_count": null,
   "id": "986a5505-23f7-4110-93e1-5fe0bf9e8be4",
   "metadata": {},
   "outputs": [],
   "source": []
  },
  {
   "cell_type": "code",
   "execution_count": 87,
   "id": "074f7451-51af-4187-8f7a-375f45cb3914",
   "metadata": {},
   "outputs": [],
   "source": [
    "import scipy.signal\n",
    "\n",
    "freq = np.linspace(50, 20e3, int(1e4))\n",
    "\n",
    "def czt_demo():\n",
    "    scipy.signal.zoom_fft(data, (50, 20e3))\n",
    "    "
   ]
  },
  {
   "cell_type": "code",
   "execution_count": 88,
   "id": "e0f89fcb-fc89-468f-96d3-70cba977daf6",
   "metadata": {},
   "outputs": [
    {
     "name": "stdout",
     "output_type": "stream",
     "text": [
      "CPU times: user 6.75 s, sys: 896 ms, total: 7.65 s\n",
      "Wall time: 7.64 s\n"
     ]
    }
   ],
   "source": [
    "%%time\n",
    "czt_demo()"
   ]
  },
  {
   "cell_type": "code",
   "execution_count": 89,
   "id": "373e1776-c296-48e3-8fec-f3118419accf",
   "metadata": {},
   "outputs": [
    {
     "name": "stdout",
     "output_type": "stream",
     "text": [
      "6.3 gigabytes\n"
     ]
    }
   ],
   "source": [
    "mem_usage = memory_usage(czt_demo)\n",
    "print(f\"{np.max(mem_usage) / 1e3 :0.1f} gigabytes\")"
   ]
  }
 ],
 "metadata": {
  "kernelspec": {
   "display_name": "Python 3 (ipykernel)",
   "language": "python",
   "name": "python3"
  },
  "language_info": {
   "codemirror_mode": {
    "name": "ipython",
    "version": 3
   },
   "file_extension": ".py",
   "mimetype": "text/x-python",
   "name": "python",
   "nbconvert_exporter": "python",
   "pygments_lexer": "ipython3",
   "version": "3.12.7"
  }
 },
 "nbformat": 4,
 "nbformat_minor": 5
}
