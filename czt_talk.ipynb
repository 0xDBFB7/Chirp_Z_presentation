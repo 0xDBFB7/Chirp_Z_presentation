{
 "cells": [
  {
   "cell_type": "code",
   "execution_count": 18,
   "id": "c5f7c9ab-1972-4101-a0cc-e64ad3198b68",
   "metadata": {},
   "outputs": [],
   "source": [
    "from memory_profiler import memory_usage"
   ]
  },
  {
   "cell_type": "markdown",
   "id": "6cecab69-a722-41b2-80bb-b7a2bbd1d27b",
   "metadata": {},
   "source": [
    "$$\\huge  \\text{FFT gives you two arrays of coefficients}\\ \\alpha, \\beta $$\n",
    "\n",
    "$$ \\huge \\text{reconstruct original signal using} \\left[ \\alpha_{frequency} \\sin() + \\beta_{frequency} \\cos()  \\right] \\ \\text{for each component} $$\n",
    "\n",
    "$$ \\huge \\alpha, \\beta \\ \\text{happen to be the real and imaginary parts of the same} $$"
   ]
  },
  {
   "cell_type": "code",
   "execution_count": 19,
   "id": "a1d7896d-a7f0-43c7-92b9-729cc46dba39",
   "metadata": {},
   "outputs": [],
   "source": [
    "import numpy as np"
   ]
  },
  {
   "cell_type": "code",
   "execution_count": 97,
   "id": "2d656145-7ece-428c-ac8e-d2e549b40d9a",
   "metadata": {},
   "outputs": [],
   "source": [
    "from scipy.io.wavfile import read\n",
    "\n",
    "sample_rate, data = read(\"data/wagner_ring_cycle.wav\")\n",
    "\n",
    "divider = 100\n",
    "data = data[:len(data)//divider]\n",
    "\n",
    "sample_times = np.arange(len(data))/sample_rate"
   ]
  },
  {
   "cell_type": "code",
   "execution_count": 98,
   "id": "11ba02b4-aab8-475d-bc15-4ea4b46c763a",
   "metadata": {},
   "outputs": [],
   "source": [
    "def conventional_fft_demo():\n",
    "    np.fft.fft(data)\n",
    "\n",
    "    # then decimate"
   ]
  },
  {
   "cell_type": "code",
   "execution_count": 99,
   "id": "f7d9156e-d4de-41dd-b0d1-7fb1acf254cd",
   "metadata": {},
   "outputs": [
    {
     "name": "stdout",
     "output_type": "stream",
     "text": [
      "6.7 gigabytes\n"
     ]
    }
   ],
   "source": [
    "mem_usage = memory_usage(conventional_fft_demo) \n",
    "\n",
    "print(f\"{np.max(mem_usage) / 1e3 :0.1f} gigabytes\")"
   ]
  },
  {
   "cell_type": "code",
   "execution_count": 100,
   "id": "507b2131-aa74-45a7-ba9c-973e0e090709",
   "metadata": {},
   "outputs": [
    {
     "name": "stdout",
     "output_type": "stream",
     "text": [
      "CPU times: user 1.85 s, sys: 297 ms, total: 2.14 s\n",
      "Wall time: 2.14 s\n"
     ]
    }
   ],
   "source": [
    "%%time\n",
    "conventional_fft_demo()"
   ]
  },
  {
   "cell_type": "code",
   "execution_count": null,
   "id": "85780a22-767b-473e-abc5-b58dd5b47b09",
   "metadata": {},
   "outputs": [],
   "source": []
  },
  {
   "cell_type": "code",
   "execution_count": 106,
   "id": "56d5e264-b8cd-494f-94fd-384c4eabb83e",
   "metadata": {},
   "outputs": [],
   "source": [
    "import czt \n",
    "\n",
    "freq = np.linspace(50, 20e3, 10)\n",
    "def czt_demo():\n",
    "    _, sig_f = czt.time2freq(sample_times, data, freq)"
   ]
  },
  {
   "cell_type": "code",
   "execution_count": 107,
   "id": "0415fd24-f036-4283-aa41-31a2e05e850a",
   "metadata": {},
   "outputs": [
    {
     "name": "stdout",
     "output_type": "stream",
     "text": [
      "6.8 gigabytes\n"
     ]
    }
   ],
   "source": [
    "mem_usage = memory_usage(czt_demo)\n",
    "\n",
    "print(f\"{np.max(mem_usage) / 1e3 :0.1f} gigabytes\")"
   ]
  },
  {
   "cell_type": "code",
   "execution_count": 103,
   "id": "130e649c-9b76-4c51-bf55-55de1ce1d959",
   "metadata": {},
   "outputs": [
    {
     "name": "stdout",
     "output_type": "stream",
     "text": [
      "CPU times: user 6.77 s, sys: 291 ms, total: 7.06 s\n",
      "Wall time: 7.06 s\n"
     ]
    }
   ],
   "source": [
    "%%time\n",
    "czt_demo()"
   ]
  },
  {
   "cell_type": "code",
   "execution_count": null,
   "id": "986a5505-23f7-4110-93e1-5fe0bf9e8be4",
   "metadata": {},
   "outputs": [],
   "source": []
  },
  {
   "cell_type": "code",
   "execution_count": 104,
   "id": "074f7451-51af-4187-8f7a-375f45cb3914",
   "metadata": {},
   "outputs": [],
   "source": [
    "import scipy.signal\n",
    "\n",
    "freq = np.linspace(50, 20e3, int(1e4))\n",
    "\n",
    "def czt_demo():\n",
    "    scipy.signal.zoom_fft(data, (50, 20e3), n)\n",
    "\n",
    "#filename = 'data/rigol/31-6-waveform-1.wfm' # 6-waveform-1 is 120 ms long\n",
    "\n",
    "\n",
    "# fft is too big (computationally) for a few of the files: time samples are \"too precise\". \n",
    "# need to cut them down.\n",
    "# 31-6 is fine without\n",
    "# 5-decimation is good enough for 31-10-waveform-2\n",
    "# 31-10-waveform-3 goes right out of the memory\n"
   ]
  },
  {
   "cell_type": "code",
   "execution_count": 105,
   "id": "e0f89fcb-fc89-468f-96d3-70cba977daf6",
   "metadata": {},
   "outputs": [
    {
     "ename": "NameError",
     "evalue": "name 'n' is not defined",
     "output_type": "error",
     "traceback": [
      "\u001b[0;31m---------------------------------------------------------------------------\u001b[0m",
      "\u001b[0;31mNameError\u001b[0m                                 Traceback (most recent call last)",
      "File \u001b[0;32m<timed eval>:1\u001b[0m\n",
      "Cell \u001b[0;32mIn[104], line 6\u001b[0m, in \u001b[0;36mczt_demo\u001b[0;34m()\u001b[0m\n\u001b[1;32m      5\u001b[0m \u001b[38;5;28;01mdef\u001b[39;00m \u001b[38;5;21mczt_demo\u001b[39m():\n\u001b[0;32m----> 6\u001b[0m     scipy\u001b[38;5;241m.\u001b[39msignal\u001b[38;5;241m.\u001b[39mzoom_fft(data, (\u001b[38;5;241m50\u001b[39m, \u001b[38;5;241m20e3\u001b[39m), \u001b[43mn\u001b[49m)\n",
      "\u001b[0;31mNameError\u001b[0m: name 'n' is not defined"
     ]
    }
   ],
   "source": [
    "%%time\n",
    "czt_demo()"
   ]
  },
  {
   "cell_type": "code",
   "execution_count": 89,
   "id": "373e1776-c296-48e3-8fec-f3118419accf",
   "metadata": {},
   "outputs": [
    {
     "name": "stdout",
     "output_type": "stream",
     "text": [
      "6.3 gigabytes\n"
     ]
    }
   ],
   "source": [
    "mem_usage = memory_usage(czt_demo)\n",
    "print(f\"{np.max(mem_usage) / 1e3 :0.1f} gigabytes\")"
   ]
  }
 ],
 "metadata": {
  "kernelspec": {
   "display_name": "Python 3 (ipykernel)",
   "language": "python",
   "name": "python3"
  },
  "language_info": {
   "codemirror_mode": {
    "name": "ipython",
    "version": 3
   },
   "file_extension": ".py",
   "mimetype": "text/x-python",
   "name": "python",
   "nbconvert_exporter": "python",
   "pygments_lexer": "ipython3",
   "version": "3.12.7"
  }
 },
 "nbformat": 4,
 "nbformat_minor": 5
}
